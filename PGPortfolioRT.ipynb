{
  "nbformat": 4,
  "nbformat_minor": 0,
  "metadata": {
    "colab": {
      "name": "PGPortfolioRT.ipynb",
      "version": "0.3.2",
      "provenance": [],
      "include_colab_link": true
    },
    "kernelspec": {
      "name": "python3",
      "display_name": "Python 3"
    }
  },
  "cells": [
    {
      "cell_type": "markdown",
      "metadata": {
        "id": "view-in-github",
        "colab_type": "text"
      },
      "source": [
        "<a href=\"https://colab.research.google.com/github/MYPETFISH/PGPortfolio/blob/master/PGPortfolioRT.ipynb\" target=\"_parent\"><img src=\"https://colab.research.google.com/assets/colab-badge.svg\" alt=\"Open In Colab\"/></a>"
      ]
    },
    {
      "cell_type": "markdown",
      "metadata": {
        "id": "Me9I2RGKc5cN",
        "colab_type": "text"
      },
      "source": [
        "follow https://github.com/MYPETFISH/PGPortfolio2/blob/master/user_guide.md"
      ]
    },
    {
      "cell_type": "code",
      "metadata": {
        "id": "WU71MFSnc6Dh",
        "colab_type": "code",
        "colab": {
          "base_uri": "https://localhost:8080/",
          "height": 141
        },
        "outputId": "99b2fe4b-e3a5-4fc5-ce3a-1364eff43233"
      },
      "source": [
        "!git clone https://github.com/MYPETFISH/PGPortfolio.git"
      ],
      "execution_count": 4,
      "outputs": [
        {
          "output_type": "stream",
          "text": [
            "Cloning into 'PGPortfolio'...\n",
            "remote: Enumerating objects: 3, done.\u001b[K\n",
            "remote: Counting objects:  33% (1/3)   \u001b[K\rremote: Counting objects:  66% (2/3)   \u001b[K\rremote: Counting objects: 100% (3/3)   \u001b[K\rremote: Counting objects: 100% (3/3), done.\u001b[K\n",
            "remote: Compressing objects:  33% (1/3)   \u001b[K\rremote: Compressing objects:  66% (2/3)   \u001b[K\rremote: Compressing objects: 100% (3/3)   \u001b[K\rremote: Compressing objects: 100% (3/3), done.\u001b[K\n",
            "Receiving objects:   0% (1/492)   \rReceiving objects:   1% (5/492)   \rReceiving objects:   2% (10/492)   \rReceiving objects:   3% (15/492)   \rReceiving objects:   4% (20/492)   \rReceiving objects:   5% (25/492)   \rReceiving objects:   6% (30/492)   \rReceiving objects:   7% (35/492)   \rReceiving objects:   8% (40/492)   \rReceiving objects:   9% (45/492)   \rReceiving objects:  10% (50/492)   \rReceiving objects:  11% (55/492)   \rReceiving objects:  12% (60/492)   \rReceiving objects:  13% (64/492)   \rReceiving objects:  14% (69/492)   \rReceiving objects:  15% (74/492)   \rReceiving objects:  16% (79/492)   \rReceiving objects:  17% (84/492)   \rReceiving objects:  18% (89/492)   \rReceiving objects:  19% (94/492)   \rReceiving objects:  20% (99/492)   \rReceiving objects:  21% (104/492)   \rReceiving objects:  22% (109/492)   \rReceiving objects:  23% (114/492)   \rReceiving objects:  24% (119/492)   \rReceiving objects:  25% (123/492)   \rReceiving objects:  26% (128/492)   \rReceiving objects:  27% (133/492)   \rReceiving objects:  28% (138/492)   \rReceiving objects:  29% (143/492)   \rReceiving objects:  30% (148/492)   \rReceiving objects:  31% (153/492)   \rReceiving objects:  32% (158/492)   \rReceiving objects:  33% (163/492)   \rReceiving objects:  34% (168/492)   \rReceiving objects:  35% (173/492)   \rReceiving objects:  36% (178/492)   \rReceiving objects:  37% (183/492)   \rReceiving objects:  38% (187/492)   \rReceiving objects:  39% (192/492)   \rReceiving objects:  40% (197/492)   \rReceiving objects:  41% (202/492)   \rReceiving objects:  42% (207/492)   \rReceiving objects:  43% (212/492)   \rReceiving objects:  44% (217/492)   \rReceiving objects:  45% (222/492)   \rReceiving objects:  46% (227/492)   \rReceiving objects:  47% (232/492)   \rReceiving objects:  48% (237/492)   \rReceiving objects:  49% (242/492)   \rReceiving objects:  50% (246/492)   \rReceiving objects:  51% (251/492)   \rReceiving objects:  52% (256/492)   \rReceiving objects:  53% (261/492)   \rReceiving objects:  54% (266/492)   \rReceiving objects:  55% (271/492)   \rReceiving objects:  56% (276/492)   \rReceiving objects:  57% (281/492)   \rReceiving objects:  58% (286/492)   \rReceiving objects:  59% (291/492)   \rReceiving objects:  60% (296/492)   \rReceiving objects:  61% (301/492)   \rReceiving objects:  62% (306/492)   \rReceiving objects:  63% (310/492)   \rReceiving objects:  64% (315/492)   \rReceiving objects:  65% (320/492)   \rReceiving objects:  66% (325/492)   \rReceiving objects:  67% (330/492)   \rReceiving objects:  68% (335/492)   \rReceiving objects:  69% (340/492)   \rReceiving objects:  70% (345/492)   \rReceiving objects:  71% (350/492)   \rReceiving objects:  72% (355/492)   \rReceiving objects:  73% (360/492)   \rReceiving objects:  74% (365/492)   \rReceiving objects:  75% (369/492)   \rReceiving objects:  76% (374/492)   \rReceiving objects:  77% (379/492)   \rReceiving objects:  78% (384/492)   \rReceiving objects:  79% (389/492)   \rReceiving objects:  80% (394/492)   \rReceiving objects:  81% (399/492)   \rReceiving objects:  82% (404/492)   \rReceiving objects:  83% (409/492)   \rReceiving objects:  84% (414/492)   \rReceiving objects:  85% (419/492)   \rReceiving objects:  86% (424/492)   \rReceiving objects:  87% (429/492)   \rReceiving objects:  88% (433/492)   \rReceiving objects:  89% (438/492)   \rremote: Total 492 (delta 0), reused 0 (delta 0), pack-reused 489\u001b[K\n",
            "Receiving objects:  90% (443/492)   \rReceiving objects:  91% (448/492)   \rReceiving objects:  92% (453/492)   \rReceiving objects:  93% (458/492)   \rReceiving objects:  94% (463/492)   \rReceiving objects:  95% (468/492)   \rReceiving objects:  96% (473/492)   \rReceiving objects:  97% (478/492)   \rReceiving objects:  98% (483/492)   \rReceiving objects:  99% (488/492)   \rReceiving objects: 100% (492/492)   \rReceiving objects: 100% (492/492), 267.53 KiB | 13.38 MiB/s, done.\n",
            "Resolving deltas:   0% (0/254)   \rResolving deltas:   1% (5/254)   \rResolving deltas:   2% (7/254)   \rResolving deltas:   3% (8/254)   \rResolving deltas:   4% (11/254)   \rResolving deltas:   5% (13/254)   \rResolving deltas:   7% (20/254)   \rResolving deltas:   9% (25/254)   \rResolving deltas:  12% (31/254)   \rResolving deltas:  13% (35/254)   \rResolving deltas:  14% (37/254)   \rResolving deltas:  15% (39/254)   \rResolving deltas:  16% (41/254)   \rResolving deltas:  17% (44/254)   \rResolving deltas:  18% (46/254)   \rResolving deltas:  20% (51/254)   \rResolving deltas:  21% (55/254)   \rResolving deltas:  22% (56/254)   \rResolving deltas:  25% (66/254)   \rResolving deltas:  27% (69/254)   \rResolving deltas:  29% (76/254)   \rResolving deltas:  31% (80/254)   \rResolving deltas:  35% (89/254)   \rResolving deltas:  44% (112/254)   \rResolving deltas:  46% (117/254)   \rResolving deltas:  49% (126/254)   \rResolving deltas:  54% (139/254)   \rResolving deltas:  66% (170/254)   \rResolving deltas:  69% (177/254)   \rResolving deltas:  70% (178/254)   \rResolving deltas:  71% (181/254)   \rResolving deltas:  72% (184/254)   \rResolving deltas:  74% (188/254)   \rResolving deltas:  75% (191/254)   \rResolving deltas:  76% (194/254)   \rResolving deltas:  77% (196/254)   \rResolving deltas:  88% (224/254)   \rResolving deltas:  89% (228/254)   \rResolving deltas:  93% (237/254)   \rResolving deltas:  96% (244/254)   \rResolving deltas:  97% (247/254)   \rResolving deltas:  98% (249/254)   \rResolving deltas: 100% (254/254)   \rResolving deltas: 100% (254/254), done.\n"
          ],
          "name": "stdout"
        }
      ]
    },
    {
      "cell_type": "code",
      "metadata": {
        "id": "v6ypR2rvebLo",
        "colab_type": "code",
        "colab": {
          "base_uri": "https://localhost:8080/",
          "height": 35
        },
        "outputId": "bab360a6-eb88-4218-a88c-18af22a6d0b2"
      },
      "source": [
        "!ls\n"
      ],
      "execution_count": 18,
      "outputs": [
        {
          "output_type": "stream",
          "text": [
            "PGPortfolio  sample_data\n"
          ],
          "name": "stdout"
        }
      ]
    },
    {
      "cell_type": "code",
      "metadata": {
        "id": "6PBmxVrW8cEM",
        "colab_type": "code",
        "colab": {
          "base_uri": "https://localhost:8080/",
          "height": 35
        },
        "outputId": "67804c34-0df4-4b0b-f663-f1c497731591"
      },
      "source": [
        "%cd PGPortfolio"
      ],
      "execution_count": 20,
      "outputs": [
        {
          "output_type": "stream",
          "text": [
            "/content/PGPortfolio\n"
          ],
          "name": "stdout"
        }
      ]
    },
    {
      "cell_type": "code",
      "metadata": {
        "id": "pOMw2o3JYJOO",
        "colab_type": "code",
        "colab": {
          "base_uri": "https://localhost:8080/",
          "height": 52
        },
        "outputId": "7e88b592-e0b1-4008-f18a-9b030c9f3f8b"
      },
      "source": [
        "!ls"
      ],
      "execution_count": 22,
      "outputs": [
        {
          "output_type": "stream",
          "text": [
            "LICENSE  pgportfolio\t      README.md\t\tsetup.py\n",
            "main.py  PGPortfolioRT.ipynb  requirements.txt\tuser_guide.md\n"
          ],
          "name": "stdout"
        }
      ]
    },
    {
      "cell_type": "code",
      "metadata": {
        "id": "ck6MQZQdQuA4",
        "colab_type": "code",
        "colab": {
          "base_uri": "https://localhost:8080/",
          "height": 108
        },
        "outputId": "0e5b945e-bc6f-45c9-d1d3-bb7c3b22d8b8"
      },
      "source": [
        "!python main.py --mode=generate --repeat=1"
      ],
      "execution_count": 29,
      "outputs": [
        {
          "output_type": "stream",
          "text": [
            "WARNING:tensorflow:From /usr/local/lib/python3.6/dist-packages/tensorflow/python/framework/op_def_library.py:263: colocate_with (from tensorflow.python.framework.ops) is deprecated and will be removed in a future version.\n",
            "Instructions for updating:\n",
            "Colocations handled automatically by placer.\n",
            "INFO:root:create indexes [1]\n"
          ],
          "name": "stdout"
        }
      ]
    },
    {
      "cell_type": "code",
      "metadata": {
        "id": "bSF8y2nTZGD0",
        "colab_type": "code",
        "colab": {}
      },
      "source": [
        "!python main.py --mode=train --processes=1 --device=gpu"
      ],
      "execution_count": 0,
      "outputs": []
    }
  ]
}